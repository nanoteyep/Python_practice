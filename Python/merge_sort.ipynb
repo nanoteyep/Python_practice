{
 "cells": [
  {
   "cell_type": "code",
   "execution_count": 36,
   "id": "1adb0944",
   "metadata": {},
   "outputs": [],
   "source": [
    "def merge_sort(data):\n",
    "    \n",
    "    def mergesplit(data):\n",
    "        if len(data) <= 1:\n",
    "            return data\n",
    "\n",
    "        left = data[:round(len(data)/2)]\n",
    "        right = data[round(len(data)/2):]\n",
    "        left = mergesplit(left)\n",
    "        right =mergesplit(right)\n",
    "\n",
    "        return merge(left, right)\n",
    "\n",
    "\n",
    "\n",
    "\n",
    "    def merge(left, right):\n",
    "        left_index, right_index = 0, 0\n",
    "        merged = []\n",
    "\n",
    "        while left_index < len(left) and right_index < len(right):\n",
    "            if left[left_index] < right[right_index]:\n",
    "                merged.append(left[left_index])\n",
    "                left_index += 1\n",
    "            else:\n",
    "                merged.append(right[right_index])\n",
    "                right_index += 1\n",
    "\n",
    "        while left_index < len(left):\n",
    "            merged.append(left[left_index])\n",
    "            left_index += 1\n",
    "\n",
    "        while right_index < len(right):\n",
    "            merged.append(right[right_index])\n",
    "            right_index += 1\n",
    "\n",
    "        return merged\n",
    "    \n",
    "    return mergesplit(data)"
   ]
  },
  {
   "cell_type": "code",
   "execution_count": 35,
   "id": "88014cdb",
   "metadata": {},
   "outputs": [
    {
     "data": {
      "text/plain": [
       "[7, 1, 9, 5, 2, 3, 8, 4, 6, 10]"
      ]
     },
     "execution_count": 35,
     "metadata": {},
     "output_type": "execute_result"
    }
   ],
   "source": [
    "import random\n",
    "\n",
    "data = [1, 2, 3, 4, 5, 6, 7, 8, 9, 10]\n",
    "\n",
    "random.shuffle(data)\n",
    "data"
   ]
  },
  {
   "cell_type": "code",
   "execution_count": 37,
   "id": "10c1a030",
   "metadata": {},
   "outputs": [
    {
     "data": {
      "text/plain": [
       "[1, 2, 3, 4, 5, 6, 7, 8, 9, 10]"
      ]
     },
     "execution_count": 37,
     "metadata": {},
     "output_type": "execute_result"
    }
   ],
   "source": [
    "merge_sort(data)"
   ]
  }
 ],
 "metadata": {
  "kernelspec": {
   "display_name": "Python 3",
   "language": "python",
   "name": "python3"
  },
  "language_info": {
   "codemirror_mode": {
    "name": "ipython",
    "version": 3
   },
   "file_extension": ".py",
   "mimetype": "text/x-python",
   "name": "python",
   "nbconvert_exporter": "python",
   "pygments_lexer": "ipython3",
   "version": "3.8.10"
  }
 },
 "nbformat": 4,
 "nbformat_minor": 5
}
