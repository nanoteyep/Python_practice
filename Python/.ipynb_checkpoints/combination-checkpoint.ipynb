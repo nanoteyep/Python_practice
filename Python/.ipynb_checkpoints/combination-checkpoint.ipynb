{
 "cells": [
  {
   "cell_type": "code",
   "execution_count": 13,
   "id": "bca81d22",
   "metadata": {},
   "outputs": [],
   "source": [
    "def combination(data, number):\n",
    "    \n",
    "    set = []\n",
    "    \n",
    "    if number <= 1:\n",
    "        return data\n",
    "\n",
    "    for m in range(len(data)):\n",
    "        for n in combination(data[m+1:], number - 1):\n",
    "            set.append(data[m] + n)\n",
    "    \n",
    "    return set\n",
    "\n",
    "\n"
   ]
  },
  {
   "cell_type": "code",
   "execution_count": 16,
   "id": "9c127ed1",
   "metadata": {},
   "outputs": [
    {
     "data": {
      "text/plain": [
       "['AB', 'AC', 'AF', 'AG', 'BC', 'BF', 'BG', 'CF', 'CG', 'FG']"
      ]
     },
     "execution_count": 16,
     "metadata": {},
     "output_type": "execute_result"
    }
   ],
   "source": [
    "combination2('ABCFG', 2)"
   ]
  }
 ],
 "metadata": {
  "kernelspec": {
   "display_name": "Python 3",
   "language": "python",
   "name": "python3"
  },
  "language_info": {
   "codemirror_mode": {
    "name": "ipython",
    "version": 3
   },
   "file_extension": ".py",
   "mimetype": "text/x-python",
   "name": "python",
   "nbconvert_exporter": "python",
   "pygments_lexer": "ipython3",
   "version": "3.8.10"
  }
 },
 "nbformat": 4,
 "nbformat_minor": 5
}
