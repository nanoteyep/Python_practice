{
 "cells": [
  {
   "cell_type": "code",
   "execution_count": 12,
   "id": "75e5d221",
   "metadata": {},
   "outputs": [],
   "source": [
    "def quick_sort(data):\n",
    "    \n",
    "    if len(data) <= 1:\n",
    "        return data\n",
    "    left = []\n",
    "    right = []\n",
    "    pivot = data[0]\n",
    "    \n",
    "    for num in range(len(data)):\n",
    "        if data[num] < pivot:\n",
    "            left.append(data[num])\n",
    "        elif data[num] > pivot:\n",
    "            right.append(data[num])\n",
    "    \n",
    "    left = quick_sort(left)\n",
    "    right = quick_sort(right)\n",
    "    \n",
    "\n",
    "    sorted = left + [pivot] + right\n",
    "    \n",
    "    return sorted"
   ]
  },
  {
   "cell_type": "code",
   "execution_count": 2,
   "id": "663d88e9",
   "metadata": {},
   "outputs": [
    {
     "data": {
      "text/plain": [
       "[10, 4, 7, 1, 6, 8, 2, 9, 5, 3]"
      ]
     },
     "execution_count": 2,
     "metadata": {},
     "output_type": "execute_result"
    }
   ],
   "source": [
    "import random\n",
    "\n",
    "data = [1, 2, 3, 4, 5, 6, 7, 8, 9, 10]\n",
    "\n",
    "random.shuffle(data)\n",
    "data"
   ]
  },
  {
   "cell_type": "code",
   "execution_count": 13,
   "id": "fb64af99",
   "metadata": {},
   "outputs": [
    {
     "data": {
      "text/plain": [
       "[1, 2, 3, 4, 5, 6, 7, 8, 9, 10]"
      ]
     },
     "execution_count": 13,
     "metadata": {},
     "output_type": "execute_result"
    }
   ],
   "source": [
    "quick_sort(data)"
   ]
  }
 ],
 "metadata": {
  "kernelspec": {
   "display_name": "Python 3",
   "language": "python",
   "name": "python3"
  },
  "language_info": {
   "codemirror_mode": {
    "name": "ipython",
    "version": 3
   },
   "file_extension": ".py",
   "mimetype": "text/x-python",
   "name": "python",
   "nbconvert_exporter": "python",
   "pygments_lexer": "ipython3",
   "version": "3.8.10"
  }
 },
 "nbformat": 4,
 "nbformat_minor": 5
}
