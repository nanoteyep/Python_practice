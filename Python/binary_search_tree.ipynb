{
 "cells": [
  {
   "cell_type": "code",
   "execution_count": 65,
   "id": "531fa0a1",
   "metadata": {},
   "outputs": [],
   "source": [
    "def binary_search_tree(dataset, target):\n",
    "    \n",
    "    class Node:\n",
    "        def __init__(self, value):\n",
    "            self.value = value\n",
    "            self.left, self.right = None, None\n",
    "\n",
    "    class NodeMgmt:\n",
    "        def __init__(self, head):\n",
    "            self.head = head\n",
    "\n",
    "        def insert(self, value):\n",
    "            self.current_node = self.head\n",
    "            while True:\n",
    "                if value[4] < self.current_node.score:\n",
    "                    if self.current_node.left != None:\n",
    "                        self.current_node = self.current_node.left\n",
    "                    else:\n",
    "                        self.current_node.left = Node(value)\n",
    "                        break\n",
    "                else:\n",
    "                    if self.current_node.right != None:\n",
    "                        self.current_node = self.current_node.right\n",
    "                    else:\n",
    "                        self.current_node.right = Node(value)\n",
    "                        break\n",
    "\n",
    "        def search(self, value):\n",
    "            self.current_node = self.head\n",
    "            while self.current_node:\n",
    "                if value == self.current_node.value:\n",
    "                    print(\"found!\")\n",
    "                    return True\n",
    "                elif value < self.current_node.value:\n",
    "                    self.current_node = self.current_node.left\n",
    "                else:\n",
    "                    self.current_node = self.current_node.right\n",
    "\n",
    "            return False\n",
    "        \n",
    "    head = Node(dataset[0])\n",
    "    tree = NodeMgmt(head)\n",
    "    for data in dataset[1:]:\n",
    "        tree.insert(data)\n",
    "    \n",
    "    return tree.search(target)\n"
   ]
  },
  {
   "cell_type": "code",
   "execution_count": 26,
   "id": "a8d25326",
   "metadata": {},
   "outputs": [
    {
     "data": {
      "text/plain": [
       "[3, 6, 7, 1, 2, 8, 5, 4, 9, 10]"
      ]
     },
     "execution_count": 26,
     "metadata": {},
     "output_type": "execute_result"
    }
   ],
   "source": [
    "import random\n",
    "\n",
    "data = [1, 2, 3, 4, 5, 6, 7, 8, 9, 10]\n",
    "\n",
    "random.shuffle(data)\n",
    "data"
   ]
  },
  {
   "cell_type": "code",
   "execution_count": 68,
   "id": "12b19a25",
   "metadata": {},
   "outputs": [
    {
     "name": "stdout",
     "output_type": "stream",
     "text": [
      "found!\n"
     ]
    },
    {
     "data": {
      "text/plain": [
       "True"
      ]
     },
     "execution_count": 68,
     "metadata": {},
     "output_type": "execute_result"
    }
   ],
   "source": [
    "binary_search_tree(data, 9)"
   ]
  }
 ],
 "metadata": {
  "kernelspec": {
   "display_name": "Python 3",
   "language": "python",
   "name": "python3"
  },
  "language_info": {
   "codemirror_mode": {
    "name": "ipython",
    "version": 3
   },
   "file_extension": ".py",
   "mimetype": "text/x-python",
   "name": "python",
   "nbconvert_exporter": "python",
   "pygments_lexer": "ipython3",
   "version": "3.8.10"
  }
 },
 "nbformat": 4,
 "nbformat_minor": 5
}
