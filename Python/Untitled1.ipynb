{
 "cells": [
  {
   "cell_type": "code",
   "execution_count": 26,
   "id": "3382a11f",
   "metadata": {},
   "outputs": [],
   "source": [
    "def solution(lines):\n",
    "    dict = {}\n",
    "    for i, line in enumerate(lines):\n",
    "        date = line.split()[0]\n",
    "        time = line.split()[1]\n",
    "        d_time = line.split()[2]\n",
    "        \n",
    "        year = date.split('-')[0]\n",
    "        month = date.split('-')[1]\n",
    "        day = date.split('-')[2]\n",
    "        \n",
    "        hour = time.split(':')[0]\n",
    "        minute = time.split(':')[1]\n",
    "        sec = time.split(':')[2]\n",
    "        \n",
    "        print(float(sec))\n",
    "        print(float(d_time[:-1]))\n",
    "        \n",
    "        len_sec = len(sec) - 3\n",
    "        len_dtime = len(d_time) - 3\n",
    "        \n",
    "        if len_sec >= len_dtime:\n",
    "            flt_len = len_sec\n",
    "        else:\n",
    "            flt_len = len_dtime\n",
    "\n",
    "        s_sec = float(sec) - float(d_time[:-1])\n",
    "        s_sec = round(s_sec, flt_len)\n",
    "        \n",
    "        print(s_sec)\n",
    "        \n",
    "        s_minute = int(minute)\n",
    "        s_hour = int(hour)\n",
    "        if s_sec < 0:\n",
    "            s_sec = 60 + s_sec\n",
    "            s_minute -= 1\n",
    "            if s_minute < 0:\n",
    "                s_minute = 60 + s_minute\n",
    "                s_hour -= 1\n",
    "                if s_hour < 0:\n",
    "                    s_hour = 24 + s_hour\n",
    "                    s_day = int(day) - 1\n",
    "                    if s_day <= 0:\n",
    "                        s_day = 31\n",
    "                        s_month = int(month) - 1\n",
    "                        \n",
    "        s_point = year+str(s_month)+str(s_day)+' '+str(s_hour)+str(s_minute)+str(s_sec)\n",
    "        e_point = year + month + time + ' ' + hour + miute + sec\n",
    "            \n",
    "        dict[i] = [s_point]\n",
    "        dict[i].append(e_point)\n",
    "    \n",
    "    print(dict)\n",
    "    \n",
    "    answer = []\n",
    "    for i, points in dict.items():\n",
    "        s_point = points[0]\n",
    "        e_point = points[1]\n",
    "        \n",
    "        s_date = s_point.split()[0]\n",
    "        s_time = s_point.split()[1]\n",
    "        e_date = e_point.split()[0]\n",
    "        e_date = e_point.split()[1]\n",
    "        \n",
    "        temp_answer = 0\n",
    "        for i_cpr, points_cpr in dict.items():\n",
    "            s_point_cpr = points[0]\n",
    "            s_date_cpr = s_point_cpr.split()[0]\n",
    "            s_time_cpr = s_point_cpr.split()[1]\n",
    "            \n",
    "            if int(s_date_cpr) > int(s_date) and int(s_date_cpr) <= int(e_date):\n",
    "                temp_answer += 1\n",
    "            elif int(s_time_cpr) >= int(s_time) and int(s_time_cpr) < int(e_time):\n",
    "                temp_answer += 1\n",
    "            \n",
    "            if s_point_cpr >= s_point and s_point_cpr < e_point:\n",
    "                temp_answer += 1\n",
    "        \n",
    "        answer.append(temp_answer - 1)\n",
    "        \n",
    "    answer = max(answer)\n",
    "    return answer"
   ]
  },
  {
   "cell_type": "code",
   "execution_count": 24,
   "id": "02b9408c",
   "metadata": {},
   "outputs": [
    {
     "name": "stdout",
     "output_type": "stream",
     "text": [
      "4.002\n",
      "2.0\n",
      "2.002\n",
      "7.0\n",
      "2.0\n",
      "5.0\n",
      "{0: ['2016-09-15 1:0:2.002', '2016-09-15 01:00:04.002'], 1: ['2016-09-15 1:0:5.0', '2016-09-15 01:00:07.000']}\n"
     ]
    },
    {
     "data": {
      "text/plain": [
       "-1"
      ]
     },
     "execution_count": 24,
     "metadata": {},
     "output_type": "execute_result"
    }
   ],
   "source": [
    "solution([\n",
    "\"2016-09-15 01:00:04.002 2.0s\",\n",
    "\"2016-09-15 01:00:07.000 2s\"\n",
    "])"
   ]
  }
 ],
 "metadata": {
  "kernelspec": {
   "display_name": "Python 3",
   "language": "python",
   "name": "python3"
  },
  "language_info": {
   "codemirror_mode": {
    "name": "ipython",
    "version": 3
   },
   "file_extension": ".py",
   "mimetype": "text/x-python",
   "name": "python",
   "nbconvert_exporter": "python",
   "pygments_lexer": "ipython3",
   "version": "3.8.10"
  }
 },
 "nbformat": 4,
 "nbformat_minor": 5
}
