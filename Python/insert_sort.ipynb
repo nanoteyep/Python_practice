{
 "cells": [
  {
   "cell_type": "code",
   "execution_count": 122,
   "id": "64c9499f",
   "metadata": {},
   "outputs": [],
   "source": [
    "def insert_sort(data):\n",
    "    for index in range(len(data)-1):\n",
    "        key = index + 1\n",
    "        for i in range(0, key):\n",
    "            if data[i] > data[key]:\n",
    "                data.insert(i, data[key])\n",
    "                data.pop(key + 1)\n",
    "    \n",
    "    return data"
   ]
  },
  {
   "cell_type": "code",
   "execution_count": 123,
   "id": "63e738a9",
   "metadata": {},
   "outputs": [],
   "source": [
    "import random\n",
    "\n",
    "data = [1, 2, 3, 4, 5, 6, 7, 8, 9, 10]\n",
    "\n",
    "random.shuffle(data)"
   ]
  },
  {
   "cell_type": "code",
   "execution_count": 124,
   "id": "697fd60a",
   "metadata": {},
   "outputs": [
    {
     "data": {
      "text/plain": [
       "[1, 2, 3, 4, 5, 6, 7, 8, 9, 10]"
      ]
     },
     "execution_count": 124,
     "metadata": {},
     "output_type": "execute_result"
    }
   ],
   "source": [
    "insert_sort(data)"
   ]
  }
 ],
 "metadata": {
  "kernelspec": {
   "display_name": "Python 3",
   "language": "python",
   "name": "python3"
  },
  "language_info": {
   "codemirror_mode": {
    "name": "ipython",
    "version": 3
   },
   "file_extension": ".py",
   "mimetype": "text/x-python",
   "name": "python",
   "nbconvert_exporter": "python",
   "pygments_lexer": "ipython3",
   "version": "3.8.10"
  }
 },
 "nbformat": 4,
 "nbformat_minor": 5
}
