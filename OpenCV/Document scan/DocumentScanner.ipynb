{
 "cells": [
  {
   "cell_type": "code",
   "execution_count": 1,
   "id": "d16c754d",
   "metadata": {},
   "outputs": [],
   "source": [
    "import sys\n",
    "import numpy as np\n",
    "import cv2"
   ]
  },
  {
   "cell_type": "code",
   "execution_count": 2,
   "id": "190b309e",
   "metadata": {},
   "outputs": [],
   "source": [
    "def drawROI(img, corners):\n",
    "    cpy = img.copy()\n",
    "\n",
    "    c1 = (192, 192, 255)\n",
    "    c2 = (128, 128, 255)\n",
    "\n",
    "    for pt in corners:\n",
    "        cv2.circle(cpy, tuple(pt.astype(int)), 25, c1, -1, cv2.LINE_AA)\n",
    "\n",
    "    cv2.line(cpy, tuple(corners[0].astype(int)), tuple(corners[1].astype(int)), c2, 2, cv2.LINE_AA)\n",
    "    cv2.line(cpy, tuple(corners[1].astype(int)), tuple(corners[2].astype(int)), c2, 2, cv2.LINE_AA)\n",
    "    cv2.line(cpy, tuple(corners[2].astype(int)), tuple(corners[3].astype(int)), c2, 2, cv2.LINE_AA)\n",
    "    cv2.line(cpy, tuple(corners[3].astype(int)), tuple(corners[0].astype(int)), c2, 2, cv2.LINE_AA)\n",
    "\n",
    "    disp = cv2.addWeighted(img, 0.3, cpy, 0.7, 0)\n",
    "\n",
    "    return disp\n",
    "\n",
    "\n",
    "def onMouse(event, x, y, flags, param):\n",
    "    global srcQuad, dragSrc, ptOld, src\n",
    "\n",
    "    if event == cv2.EVENT_LBUTTONDOWN:\n",
    "        for i in range(4):\n",
    "            if cv2.norm(srcQuad[i] - (x, y)) < 25:\n",
    "                dragSrc[i] = True\n",
    "                ptOld = (x, y)\n",
    "                break\n",
    "\n",
    "    if event == cv2.EVENT_LBUTTONUP:\n",
    "        for i in range(4):\n",
    "            dragSrc[i] = False\n",
    "\n",
    "    if event == cv2.EVENT_MOUSEMOVE:\n",
    "        for i in range(4):\n",
    "            if dragSrc[i]:\n",
    "                dx = x - ptOld[0]\n",
    "                dy = y - ptOld[1]\n",
    "\n",
    "                srcQuad[i] += (dx, dy)\n",
    "\n",
    "                cpy = drawROI(src, srcQuad)\n",
    "                cv2.imshow('img', cpy)\n",
    "                ptOld = (x, y)\n",
    "                break"
   ]
  },
  {
   "cell_type": "code",
   "execution_count": 3,
   "id": "04be5dfb",
   "metadata": {},
   "outputs": [],
   "source": [
    "src = cv2.imread('scanned.jpg')\n",
    "\n",
    "if src is None:\n",
    "    print('Image open failed!')\n",
    "    sys.exit()"
   ]
  },
  {
   "cell_type": "code",
   "execution_count": 4,
   "id": "3ec4e06f",
   "metadata": {},
   "outputs": [],
   "source": [
    "h, w = src.shape[:2]\n",
    "dw = 500\n",
    "dh = round(dw * 297 / 210)"
   ]
  },
  {
   "cell_type": "code",
   "execution_count": 5,
   "id": "d4fe730a",
   "metadata": {},
   "outputs": [],
   "source": [
    "srcQuad = np.array([[30, 30], [30, h-30], [w-30, h-30], [w-30, 30]], np.float32)\n",
    "dstQuad = np.array([[0, 0], [0, dh-1], [dw-1, dh-1], [dw-1, 0]], np.float32)\n",
    "dragSrc = [False, False, False, False]"
   ]
  },
  {
   "cell_type": "code",
   "execution_count": 9,
   "id": "a9e22903",
   "metadata": {},
   "outputs": [],
   "source": [
    "disp = drawROI(src, srcQuad)\n",
    "\n",
    "cv2.imshow('img', disp)\n",
    "cv2.setMouseCallback('img', onMouse)\n",
    "\n",
    "while True:\n",
    "    key = cv2.waitKey()\n",
    "    if key == 13:  # ENTER\n",
    "        break\n",
    "    elif key == 27:  # ESC\n",
    "        cv2.destroyWindow('img')\n",
    "        sys.exit()\n",
    "        \n",
    "pers = cv2.getPerspectiveTransform(srcQuad, dstQuad)\n",
    "dst = cv2.warpPerspective(src, pers, (dw, dh), flags=cv2.INTER_CUBIC)\n",
    "\n",
    "cv2.imshow('dst', dst)\n",
    "cv2.waitKey()\n",
    "cv2.destroyAllWindows()"
   ]
  },
  {
   "cell_type": "code",
   "execution_count": null,
   "id": "27db2f7d",
   "metadata": {},
   "outputs": [],
   "source": []
  }
 ],
 "metadata": {
  "kernelspec": {
   "display_name": "Python 3",
   "language": "python",
   "name": "python3"
  },
  "language_info": {
   "codemirror_mode": {
    "name": "ipython",
    "version": 3
   },
   "file_extension": ".py",
   "mimetype": "text/x-python",
   "name": "python",
   "nbconvert_exporter": "python",
   "pygments_lexer": "ipython3",
   "version": "3.8.10"
  }
 },
 "nbformat": 4,
 "nbformat_minor": 5
}
