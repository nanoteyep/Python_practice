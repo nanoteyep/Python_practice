{
 "cells": [
  {
   "cell_type": "code",
   "execution_count": 2,
   "id": "9e42e593",
   "metadata": {},
   "outputs": [],
   "source": [
    "import sys\n",
    "import numpy as np\n",
    "import cv2"
   ]
  },
  {
   "cell_type": "code",
   "execution_count": 3,
   "id": "1cae35cd",
   "metadata": {},
   "outputs": [],
   "source": [
    "cap1 = cv2.VideoCapture('woman.mp4')\n",
    "\n",
    "if not cap1.isOpened():\n",
    "    print('video open failed!')\n",
    "    sys.exit()\n",
    "    \n",
    "cap2 = cv2.VideoCapture('raining.mp4')\n",
    "\n",
    "if not cap2.isOpened():\n",
    "    print('video open failed!')\n",
    "    sys.exit()"
   ]
  },
  {
   "cell_type": "code",
   "execution_count": 4,
   "id": "32a03a5a",
   "metadata": {},
   "outputs": [
    {
     "name": "stdout",
     "output_type": "stream",
     "text": [
      "frame_cnt1: 409\n",
      "frame_cnt2: 353\n"
     ]
    }
   ],
   "source": [
    "frame_cnt1 = round(cap1.get(cv2.CAP_PROP_FRAME_COUNT))\n",
    "frame_cnt2 = round(cap2.get(cv2.CAP_PROP_FRAME_COUNT))\n",
    "print('frame_cnt1:', frame_cnt1)\n",
    "print('frame_cnt2:', frame_cnt2)\n",
    "\n",
    "fps = cap1.get(cv2.CAP_PROP_FPS)\n",
    "delay = int(1000 / fps)"
   ]
  },
  {
   "cell_type": "code",
   "execution_count": 5,
   "id": "68d3ffc3",
   "metadata": {},
   "outputs": [],
   "source": [
    "do_composit = False"
   ]
  },
  {
   "cell_type": "code",
   "execution_count": 6,
   "id": "c519bfe6",
   "metadata": {},
   "outputs": [],
   "source": [
    "while True:\n",
    "    ret1, frame1 = cap1.read()\n",
    "\n",
    "    if not ret1:\n",
    "        break\n",
    "    \n",
    "    if do_composit:\n",
    "        ret2, frame2 = cap2.read()\n",
    "\n",
    "        if not ret2:\n",
    "            break\n",
    "\n",
    "        hsv = cv2.cvtColor(frame1, cv2.COLOR_BGR2HSV)\n",
    "        mask = cv2.inRange(hsv, (50, 150, 0), (70, 255, 255))\n",
    "        cv2.copyTo(frame2, mask, frame1)\n",
    "\n",
    "    cv2.imshow('frame', frame1)\n",
    "    key = cv2.waitKey(delay)\n",
    "\n",
    "    if key == ord(' '):\n",
    "        do_composit = not do_composit\n",
    "    elif key == 27:\n",
    "        break\n",
    "        \n",
    "cap1.release()\n",
    "cap2.release()\n",
    "cv2.destroyAllWindows()"
   ]
  }
 ],
 "metadata": {
  "kernelspec": {
   "display_name": "Python 3",
   "language": "python",
   "name": "python3"
  },
  "language_info": {
   "codemirror_mode": {
    "name": "ipython",
    "version": 3
   },
   "file_extension": ".py",
   "mimetype": "text/x-python",
   "name": "python",
   "nbconvert_exporter": "python",
   "pygments_lexer": "ipython3",
   "version": "3.8.10"
  }
 },
 "nbformat": 4,
 "nbformat_minor": 5
}
