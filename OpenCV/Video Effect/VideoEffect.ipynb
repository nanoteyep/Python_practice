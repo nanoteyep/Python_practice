{
 "cells": [
  {
   "cell_type": "code",
   "execution_count": 2,
   "id": "d0caf940",
   "metadata": {},
   "outputs": [],
   "source": [
    "import sys\n",
    "import numpy as np\n",
    "import cv2"
   ]
  },
  {
   "cell_type": "code",
   "execution_count": 3,
   "id": "ff98667d",
   "metadata": {},
   "outputs": [],
   "source": [
    "# Open Video\n",
    "cap1 = cv2.VideoCapture('video1.mp4')\n",
    "cap2 = cv2.VideoCapture('video2.mp4')\n",
    "\n",
    "if not cap1.isOpened() or not cap2.isOpened():\n",
    "    print(\"The video is not opend!!\")\n",
    "    sys.exit()"
   ]
  },
  {
   "cell_type": "code",
   "execution_count": 4,
   "id": "7b51529f",
   "metadata": {},
   "outputs": [
    {
     "name": "stdout",
     "output_type": "stream",
     "text": [
      "frame_cnt1: 85\n",
      "frame_cnt2: 121\n",
      "fps: 24.0\n"
     ]
    }
   ],
   "source": [
    "# assume that the two video has same fps, width, height\n",
    "frame_cnt1 = round(cap1.get(cv2.CAP_PROP_FRAME_COUNT))\n",
    "frame_cnt2 = round(cap2.get(cv2.CAP_PROP_FRAME_COUNT))\n",
    "fps = cap1.get(cv2.CAP_PROP_FPS)\n",
    "effect_frames = int(fps * 2)\n",
    "\n",
    "print('frame_cnt1:', frame_cnt1)\n",
    "print('frame_cnt2:', frame_cnt2)\n",
    "print('fps:', fps)"
   ]
  },
  {
   "cell_type": "code",
   "execution_count": 5,
   "id": "d3528d4f",
   "metadata": {},
   "outputs": [],
   "source": [
    "delay = int(1000 / fps)\n",
    "\n",
    "w = round(cap1.get(cv2.CAP_PROP_FRAME_WIDTH))\n",
    "h = round(cap1.get(cv2.CAP_PROP_FRAME_HEIGHT))\n",
    "fourcc = cv2.VideoWriter_fourcc(*'DIVX')"
   ]
  },
  {
   "cell_type": "code",
   "execution_count": 6,
   "id": "9f413014",
   "metadata": {},
   "outputs": [],
   "source": [
    "# video out\n",
    "out = cv2.VideoWriter('output.avi', fourcc, fps, (w, h))"
   ]
  },
  {
   "cell_type": "code",
   "execution_count": 7,
   "id": "b714b0fb",
   "metadata": {},
   "outputs": [
    {
     "name": "stdout",
     "output_type": "stream",
     "text": [
      "..............................................................................................................................................................\n",
      "output file is successfully generated!\n"
     ]
    },
    {
     "data": {
      "text/plain": [
       "<function destroyAllWindows>"
      ]
     },
     "execution_count": 7,
     "metadata": {},
     "output_type": "execute_result"
    }
   ],
   "source": [
    "# copy video 1\n",
    "for i in range(frame_cnt1 - effect_frames):\n",
    "    ret1, frame1 = cap1.read()\n",
    "    \n",
    "    if not ret1:\n",
    "        print('frame read error!')\n",
    "        sys.exit()\n",
    "        \n",
    "    out.write(frame1)\n",
    "    print('.', end='')\n",
    "    \n",
    "    cv2.imshow('output', frame1)\n",
    "    cv2.waitKey(delay)\n",
    "\n",
    "# combine back part of video1 and front part of video2    \n",
    "for i in range(effect_frames):\n",
    "    ret1, frame1 = cap1.read()\n",
    "    ret2, frame2 = cap2.read()\n",
    "    \n",
    "    if not ret1 or not ret2:\n",
    "        print('frame read error!')\n",
    "        sys.exit()\n",
    "    \n",
    "# change video1 to video2 sequencially in a axis of width\n",
    "    dx = int(w / effect_frames) * i\n",
    "    \n",
    "    frame = np.zeros((h, w, 3), dtype=np.uint8)\n",
    "    frame[:, 0:dx, :] = frame2[:, 0:dx, :]\n",
    "    frame[:, dx:w, :] = frame1[:, dx:w, :]\n",
    "    \n",
    "    out.write(frame)\n",
    "    print('.', end='')\n",
    "    \n",
    "    cv2.imshow('output', frame)\n",
    "    cv2.waitKey(delay)\n",
    "    \n",
    "    \n",
    "# copy video2\n",
    "for i in range(effect_frames, frame_cnt2):\n",
    "    ret2, frame2 = cap2.read()\n",
    "    \n",
    "    if not ret2:\n",
    "        print(\"frame read error!\")\n",
    "        sys.exit()\n",
    "        \n",
    "    out.write(frame2)\n",
    "    print('.', end='')\n",
    "    \n",
    "    cv2.imshow('output', frame2)\n",
    "    cv2.waitKey(delay)\n",
    "    \n",
    "print('\\noutput file is successfully generated!')\n",
    "\n",
    "cap1.release()\n",
    "cap2.release()\n",
    "out.release()\n",
    "cv2.destroyAllWindows"
   ]
  }
 ],
 "metadata": {
  "kernelspec": {
   "display_name": "Python 3",
   "language": "python",
   "name": "python3"
  },
  "language_info": {
   "codemirror_mode": {
    "name": "ipython",
    "version": 3
   },
   "file_extension": ".py",
   "mimetype": "text/x-python",
   "name": "python",
   "nbconvert_exporter": "python",
   "pygments_lexer": "ipython3",
   "version": "3.8.10"
  }
 },
 "nbformat": 4,
 "nbformat_minor": 5
}
